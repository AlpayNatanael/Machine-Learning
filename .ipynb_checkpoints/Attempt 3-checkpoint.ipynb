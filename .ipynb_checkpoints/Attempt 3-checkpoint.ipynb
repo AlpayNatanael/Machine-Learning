{
 "cells": [
  {
   "cell_type": "code",
   "execution_count": 1,
   "id": "7d3d68f5",
   "metadata": {},
   "outputs": [],
   "source": [
    "import Example3_code as ep3"
   ]
  },
  {
   "cell_type": "code",
   "execution_count": 30,
   "id": "fdf16011",
   "metadata": {},
   "outputs": [
    {
     "ename": "SyntaxError",
     "evalue": "invalid syntax (<ipython-input-30-8415aea5f438>, line 1)",
     "output_type": "error",
     "traceback": [
      "\u001b[1;36m  File \u001b[1;32m\"<ipython-input-30-8415aea5f438>\"\u001b[1;36m, line \u001b[1;32m1\u001b[0m\n\u001b[1;33m    <img src=\"FileName.gif\" width=\"750\" align=\"center\">\u001b[0m\n\u001b[1;37m    ^\u001b[0m\n\u001b[1;31mSyntaxError\u001b[0m\u001b[1;31m:\u001b[0m invalid syntax\n"
     ]
    }
   ],
   "source": []
  },
  {
   "cell_type": "markdown",
   "id": "647248ee",
   "metadata": {},
   "source": [
    "https://towardsdatascience.com/perceptron-explanation-implementation-and-a-visual-example-3c8e76b4e2d1"
   ]
  },
  {
   "cell_type": "markdown",
   "id": "4bed9c7b",
   "metadata": {},
   "source": [
    "## Attempt number 3"
   ]
  },
  {
   "cell_type": "code",
   "execution_count": 2,
   "id": "fea5771d",
   "metadata": {},
   "outputs": [],
   "source": [
    "#p3.load_data_set()"
   ]
  },
  {
   "cell_type": "code",
   "execution_count": 4,
   "id": "c4b4e6ef",
   "metadata": {
    "scrolled": false
   },
   "outputs": [
    {
     "data": {
      "image/png": "[encoded data removed]",
      "text/plain": [
       "<Figure size 960x720 with 1 Axes>"
      ]
     },
     "metadata": {
      "needs_background": "light"
     },
     "output_type": "display_data"
    },
    {
     "data": {
      "text/plain": [
       "<Figure size 432x288 with 0 Axes>"
      ]
     },
     "metadata": {},
     "output_type": "display_data"
    }
   ],
   "source": [
    "ep3.compute()"
   ]
  },
  {
   "cell_type": "markdown",
   "id": "d1e56db9",
   "metadata": {},
   "source": [
    "<img src=\"animation1.gif\" width=\"750\" align=\"center\">"
   ]
  },
  {
   "cell_type": "code",
   "execution_count": null,
   "id": "ec1570f6",
   "metadata": {},
   "outputs": [],
   "source": []
  },
  {
   "cell_type": "code",
   "execution_count": null,
   "id": "3dfe9253",
   "metadata": {},
   "outputs": [],
   "source": []
  },
  {
   "cell_type": "code",
   "execution_count": null,
   "id": "2cfb1d1f",
   "metadata": {},
   "outputs": [],
   "source": []
  },
  {
   "cell_type": "code",
   "execution_count": null,
   "id": "9adcfa6b",
   "metadata": {},
   "outputs": [],
   "source": []
  },
  {
   "cell_type": "code",
   "execution_count": null,
   "id": "7a4b7b41",
   "metadata": {},
   "outputs": [],
   "source": []
  },
  {
   "cell_type": "code",
   "execution_count": 10,
   "id": "6e59b666",
   "metadata": {},
   "outputs": [],
   "source": [
    "import numpy as np\n",
    "from sklearn.datasets import make_moons, make_circles, make_classification\n",
    "import matplotlib.pyplot as plt\n",
    "from sklearn.model_selection import train_test_split\n",
    "from sklearn.datasets import load_iris\n",
    "import Perc_code as p\n",
    "\n",
    "\"\"\"\n",
    "This code is a modification for the code provided in the guide:\n",
    "https://towardsdatascience.com/perceptron-explanation-implementation-and-a-visual-example-3c8e76b4e2d1\n",
    "\"\"\"\n",
    "\n",
    "\n",
    "# loading the data\n",
    "# %matplotlib inline\n",
    "def load_data_set(show = True, line = False, weights = [], xy = False):\n",
    "    \"\"\" Show- true graph, else no grapth\"\"\"\n",
    "    #https://scikit-learn.org/stable/modules/generated/sklearn.datasets.load_iris.html\n",
    "\n",
    "    # return the data and the d\n",
    "    X,y = load_iris(return_X_y=True)\n",
    "\n",
    "    if (xy == True):\n",
    "        #plt.scatter(X[:50, 0], X[:50, 1],\n",
    "        #plt.scatter(X[50:100, 0], X[50:100, 1]\n",
    "        return X[0:100,0], X[0:100,1]\n",
    "\n",
    "\n",
    "    if (show == True):\n",
    "        # plt.scatter(x, y,...)\n",
    "        # first fifty enteries\n",
    "        plt.scatter(X[:50, 0], X[:50, 1],\n",
    "                    color='green', marker='x', label='setosa')\n",
    "\n",
    "        # last thifty entires\n",
    "        plt.scatter(X[50:100, 0], X[50:100, 1],\n",
    "                    color='red', marker='o', label='versicolor')\n",
    "        plt.xlabel('sepal length')\n",
    "        plt.ylabel('petal length')\n",
    "        plt.legend(loc='upper right')\n",
    "        plt.show()\n",
    "\n",
    "    if (line == True):\n",
    "        plt.scatter(X[:50, 0], X[:50, 1],\n",
    "                    color='green', marker='x', label='setosa')\n",
    "\n",
    "        # last thifty entires\n",
    "        plt.scatter(X[50:100, 0], X[50:100, 1],\n",
    "                    color='red', marker='o', label='versicolor')\n",
    "        plt.xlabel('sepal length')\n",
    "        plt.ylabel('petal length')\n",
    "        plt.legend(loc='upper right')\n",
    "        plt.show()\n",
    "        line_plt = []\n",
    "        # Here i am calculating slope and intercept with given three weights\n",
    "        for i in np.linspace(np.amin(X[:50,:1]),np.amax(X[:50,:1])):\n",
    "            slope = -(weights[0]/weights[2])/(weights[0]/weights[1])\n",
    "            intercept = -weights[0]/weights[2]\n",
    "\n",
    "            #y =mx+c, m is slope and c is intercept\n",
    "            y = (slope*i) + intercept\n",
    "            plt.plot(i, y,'ko')\n",
    "            #line_plt.append([i,y,'ko'])\n",
    "\n",
    "        #plt.scatter(line_plt[:,0], line_plt[:,1],\n",
    "        #            color='red', marker='o', label='versicolor')\n",
    "        #plt.show()\n",
    "    else:\n",
    "        return X,y\n",
    "\n",
    "\n",
    "\n",
    "class Perceptron:\n",
    "    \"\"\" Class perceptron with methods\n",
    "    \"\"\"\n",
    "    def fit(self, X, y, n_iter=100):\n",
    "\n",
    "        n_samples = X.shape[0]\n",
    "        n_features = X.shape[1]\n",
    "\n",
    "        # Add 1 for the bias term\n",
    "        self.weights = np.zeros((n_features+1,))\n",
    "\n",
    "        # Add column of 1s\n",
    "        X = np.concatenate([X, np.ones((n_samples, 1))], axis=1)\n",
    "\n",
    "        for i in range(n_iter):\n",
    "            for j in range(n_samples):\n",
    "                if y[j]*np.dot(self.weights, X[j, :]) <= 0:\n",
    "                    self.weights += y[j]*X[j, :]\n",
    "\n",
    "    def predict(self, X):\n",
    "        if not hasattr(self, 'weights'):\n",
    "            print('The model is not trained yet!')\n",
    "            return\n",
    "\n",
    "        n_samples = X.shape[0]\n",
    "        # Add column of 1s\n",
    "        X = np.concatenate([X, np.ones((n_samples, 1))], axis=1)\n",
    "        y = np.matmul(X, self.weights)\n",
    "        y = np.vectorize(lambda val: 1 if val > 0 else -1)(y)\n",
    "\n",
    "        return y\n",
    "\n",
    "    def score(self, X, y):\n",
    "        pred_y = self.predict(X)\n",
    "\n",
    "        return np.mean(y == pred_y)\n",
    "\n",
    "\n",
    "    \n",
    "    \n",
    "#############  Code for plotting  #############\n",
    "\n",
    "def plot_data_points(ax, X, y):\n",
    "    neg_class = (y == -1)\n",
    "    pos_class = (y == 1)\n",
    "    ax.scatter(X[neg_class, 0], X[neg_class, 1])\n",
    "    ax.scatter(X[pos_class, 0], X[pos_class, 1])\n",
    "\n",
    "def plot_decision_boundary(ax, clf, X, p):\n",
    "    X_cpy = X.copy()\n",
    "    margin = 0.5\n",
    "    x_min = np.min(X_cpy[:, 0])-margin\n",
    "    x_max = np.max(X_cpy[:, 0])+margin\n",
    "    y_min = np.min(X_cpy[:, 1])-margin\n",
    "    y_max = np.max(X_cpy[:, 1])+margin\n",
    "    n = 1000\n",
    "    x = np.linspace(x_min, x_max, num=n)\n",
    "    y = np.linspace(y_min, y_max, num=n)\n",
    "    x, y = np.meshgrid(x, y)\n",
    "    X_cpy = np.stack([x.reshape((n*n,)), y.reshape((n*n,))], axis=1)\n",
    "    X_cpy = polynomial_features(X_cpy, p)\n",
    "    z = clf.predict(X_cpy)\n",
    "    z = z.reshape((n, n))\n",
    "    ax.contour(x, y, z, levels=[0])\n",
    "\n",
    "def polynom(indices_list, indices, a, b, p):\n",
    "    indices = [*indices]\n",
    "    if p == 0:\n",
    "        indices_list.append(indices)\n",
    "        return\n",
    "    for i in range(a, b):\n",
    "        indices.append(i)\n",
    "        polynom(indices_list, indices, i, b, p-1)\n",
    "        indices = indices[0:-1]\n",
    "\n",
    "def polynomial_features(X: np.ndarray, p) -> np.ndarray:\n",
    "    n, d = X.shape\n",
    "    features = []\n",
    "    for i in range(1, p+1):\n",
    "        l = []\n",
    "        polynom(l, [], 0, d, i)\n",
    "        for indices in l:\n",
    "            x = np.ones((n,))\n",
    "            for idx in indices:\n",
    "                x = x * X[:, idx]\n",
    "            features.append(x)\n",
    "    return np.stack(features, axis=1)\n",
    "\n",
    "\n",
    "\n",
    "################# Animation #################\n",
    "\n",
    "\n",
    "def anim_fig(weights, X, y, X_train, y_train, X_test, y_test, out_folder, p, n_iter, i, j, n_samples, iteration_level):\n",
    "    clf = Perceptron()\n",
    "    clf.weights = weights\n",
    "\n",
    "    plt.clf()\n",
    "    fig, (ax_train, ax_test) = plt.subplots(nrows=1, ncols=2, dpi=120, figsize=(16,6))\n",
    "\n",
    "    if iteration_level:\n",
    "        plot_data_points(ax_train, X_train, y_train)\n",
    "    else:\n",
    "        mask = np.ones((n_samples,), dtype=bool)\n",
    "        mask[j] = False\n",
    "        plot_data_points(ax_train, X_train[mask, :], y_train[mask])\n",
    "        ax_train.scatter(X_train[j, 0], X_train[j, 1], c='lime')\n",
    "\n",
    "    plot_data_points(ax_test, X_test, y_test)\n",
    "\n",
    "    plot_decision_boundary(ax_train, clf, X, p)\n",
    "    plot_decision_boundary(ax_test, clf, X, p)\n",
    "\n",
    "    ax_train.set_title('Train')\n",
    "    ax_test.set_title('Test')\n",
    "\n",
    "    if iteration_level:\n",
    "        fig.suptitle(f'Iteration: {i+1}/{n_iter}', fontsize=14)\n",
    "    else:\n",
    "        fig.suptitle(f'Iteration: {i+1}/{n_iter}; Point: {j+1}/{n_samples}', fontsize=14)\n",
    "    k = i if iteration_level else i*n_samples+j\n",
    "    plt.savefig(f'{out_folder}/frame{k}.png')\n",
    "    plt.close(fig)\n",
    "\n",
    "def perceptron_anim(X, y, X_train, y_train, X_test, y_test, out_folder, iteration_level, p=1, n_iter=100):\n",
    "\n",
    "    n_samples = X_train.shape[0]\n",
    "    n_features = X_train.shape[1]\n",
    "\n",
    "    weights = np.zeros((n_features+1,))\n",
    "\n",
    "    X_train = np.concatenate([X_train, np.ones((n_samples, 1))], axis=1)\n",
    "\n",
    "    for i in range(n_iter):\n",
    "        for j in range(n_samples):\n",
    "            if y_train[j]*np.dot(weights, X_train[j, :]) <= 0:\n",
    "                weights += y_train[j]*X_train[j, :]\n",
    "\n",
    "            if not iteration_level:\n",
    "                anim_fig(weights, X, y, X_train, y_train, X_test, y_test, out_folder, p, n_iter, i, j, n_samples, iteration_level)\n",
    "        if iteration_level:\n",
    "            anim_fig(weights, X, y, X_train, y_train, X_test, y_test, out_folder, p, n_iter, i, j, n_samples, iteration_level)\n"
   ]
  },
  {
   "cell_type": "code",
   "execution_count": 22,
   "id": "a2982ef5",
   "metadata": {},
   "outputs": [
    {
     "data": {
      "image/png": "[encoded data removed]",
      "text/plain": [
       "<Figure size 960x720 with 1 Axes>"
      ]
     },
     "metadata": {
      "needs_background": "light"
     },
     "output_type": "display_data"
    }
   ],
   "source": [
    "import Example3_code as ep3\n",
    "\n",
    "X, y = make_classification(\n",
    "    n_features=2,\n",
    "    n_classes=2,\n",
    "    n_samples=200,\n",
    "    n_redundant=0,\n",
    "    n_clusters_per_class=1\n",
    ")\n",
    "X, y = make_circles(n_samples=200, noise=0.03, factor=0.7)\n",
    "\n",
    "\n",
    "\n",
    "#X,y = load_data_set(show = False, xy = True)\n",
    "X = np.load('X_lin_sep.npy')\n",
    "y = np.load('y_lin_sep.npy')\n",
    "\n",
    "\n",
    "\n",
    "\n",
    "fig, ax = plt.subplots(nrows=1, ncols=1, dpi=120, figsize=(8,6))\n",
    "plot_data_points(ax, X, y)\n",
    "\n",
    "\n",
    "print(neg_class)\n",
    "\n",
    "\n",
    "plt.savefig('output/lin_sep/figure.png')\n",
    "plt.show()"
   ]
  },
  {
   "cell_type": "code",
   "execution_count": 47,
   "id": "264fa6dc",
   "metadata": {},
   "outputs": [
    {
     "name": "stdout",
     "output_type": "stream",
     "text": [
      "200\n",
      "200\n",
      "-0.6815721943592334\n"
     ]
    }
   ],
   "source": [
    "X = np.load('X_lin_sep.npy')\n",
    "y = np.load('y_lin_sep.npy')\n",
    "print(len(X))\n",
    "print(len(y))\n",
    "print(X[1,1])"
   ]
  },
  {
   "cell_type": "code",
   "execution_count": 51,
   "id": "bb3f1f8f",
   "metadata": {},
   "outputs": [
    {
     "name": "stdout",
     "output_type": "stream",
     "text": [
      "50\n",
      "50\n",
      "3.0\n"
     ]
    }
   ],
   "source": [
    "x1, y1 = ep3.load_data_set(show = False, xy = True)\n",
    "print(len(x1))\n",
    "print(len(y1))\n",
    "print(x1[1,1])"
   ]
  },
  {
   "cell_type": "code",
   "execution_count": 52,
   "id": "92d9db9d",
   "metadata": {},
   "outputs": [
    {
     "name": "stdout",
     "output_type": "stream",
     "text": [
      "[[False False]\n",
      " [False False]\n",
      " [False False]\n",
      " [False False]\n",
      " [False False]\n",
      " [False False]\n",
      " [False False]\n",
      " [False False]\n",
      " [False False]\n",
      " [False False]\n",
      " [False False]\n",
      " [False False]\n",
      " [False False]\n",
      " [False False]\n",
      " [False False]\n",
      " [False False]\n",
      " [False False]\n",
      " [False False]\n",
      " [False False]\n",
      " [False False]\n",
      " [False False]\n",
      " [False False]\n",
      " [False False]\n",
      " [False False]\n",
      " [False False]\n",
      " [False False]\n",
      " [False False]\n",
      " [False False]\n",
      " [False False]\n",
      " [False False]\n",
      " [False False]\n",
      " [False False]\n",
      " [False False]\n",
      " [False False]\n",
      " [False False]\n",
      " [False False]\n",
      " [False False]\n",
      " [False False]\n",
      " [False False]\n",
      " [False False]\n",
      " [False False]\n",
      " [False False]\n",
      " [False False]\n",
      " [False False]\n",
      " [False False]\n",
      " [False False]\n",
      " [False False]\n",
      " [False False]\n",
      " [False False]\n",
      " [False False]]\n"
     ]
    },
    {
     "ename": "IndexError",
     "evalue": "too many indices for array: array is 2-dimensional, but 3 were indexed",
     "output_type": "error",
     "traceback": [
      "\u001b[1;31m---------------------------------------------------------------------------\u001b[0m",
      "\u001b[1;31mIndexError\u001b[0m                                Traceback (most recent call last)",
      "\u001b[1;32m<ipython-input-52-0f3cdcc12188>\u001b[0m in \u001b[0;36m<module>\u001b[1;34m\u001b[0m\n\u001b[0;32m     13\u001b[0m \u001b[0mpos_class\u001b[0m \u001b[1;33m=\u001b[0m \u001b[1;33m(\u001b[0m\u001b[0my1\u001b[0m \u001b[1;33m==\u001b[0m \u001b[1;36m1\u001b[0m\u001b[1;33m)\u001b[0m\u001b[1;33m\u001b[0m\u001b[1;33m\u001b[0m\u001b[0m\n\u001b[0;32m     14\u001b[0m \u001b[0mprint\u001b[0m\u001b[1;33m(\u001b[0m\u001b[0mneg_class\u001b[0m\u001b[1;33m)\u001b[0m\u001b[1;33m\u001b[0m\u001b[1;33m\u001b[0m\u001b[0m\n\u001b[1;32m---> 15\u001b[1;33m \u001b[0mplt\u001b[0m\u001b[1;33m.\u001b[0m\u001b[0mscatter\u001b[0m\u001b[1;33m(\u001b[0m\u001b[0mx1\u001b[0m\u001b[1;33m[\u001b[0m\u001b[0mneg_class\u001b[0m\u001b[1;33m,\u001b[0m \u001b[1;36m0\u001b[0m\u001b[1;33m]\u001b[0m\u001b[1;33m,\u001b[0m \u001b[0mx1\u001b[0m\u001b[1;33m[\u001b[0m\u001b[0mneg_class\u001b[0m\u001b[1;33m,\u001b[0m \u001b[1;36m1\u001b[0m\u001b[1;33m]\u001b[0m\u001b[1;33m)\u001b[0m\u001b[1;33m\u001b[0m\u001b[1;33m\u001b[0m\u001b[0m\n\u001b[0m\u001b[0;32m     16\u001b[0m \u001b[0mplt\u001b[0m\u001b[1;33m.\u001b[0m\u001b[0mscatter\u001b[0m\u001b[1;33m(\u001b[0m\u001b[0mx1\u001b[0m\u001b[1;33m[\u001b[0m\u001b[0mpos_class\u001b[0m\u001b[1;33m,\u001b[0m \u001b[1;36m0\u001b[0m\u001b[1;33m]\u001b[0m\u001b[1;33m,\u001b[0m \u001b[0mx1\u001b[0m\u001b[1;33m[\u001b[0m\u001b[0mpos_class\u001b[0m\u001b[1;33m,\u001b[0m \u001b[1;36m1\u001b[0m\u001b[1;33m]\u001b[0m\u001b[1;33m)\u001b[0m\u001b[1;33m\u001b[0m\u001b[1;33m\u001b[0m\u001b[0m\n\u001b[0;32m     17\u001b[0m \u001b[1;33m\u001b[0m\u001b[0m\n",
      "\u001b[1;31mIndexError\u001b[0m: too many indices for array: array is 2-dimensional, but 3 were indexed"
     ]
    },
    {
     "data": {
      "image/png": "[encoded data removed]",
      "text/plain": [
       "<Figure size 960x720 with 1 Axes>"
      ]
     },
     "metadata": {
      "needs_background": "light"
     },
     "output_type": "display_data"
    }
   ],
   "source": [
    "def plot_data_points(ax, X, y):\n",
    "    neg_class = (y == -1)\n",
    "    pos_class = (y == 1)\n",
    "    ax.scatter(X[neg_class, 0], X[neg_class, 1])\n",
    "    ax.scatter(X[pos_class, 0], X[pos_class, 1])\n",
    "\n",
    "\n",
    "\n",
    "\n",
    "fig, ax = plt.subplots(nrows=1, ncols=1, dpi=120, figsize=(8,6))\n",
    "\n",
    "neg_class = (y1 == -1)\n",
    "pos_class = (y1 == 1)\n",
    "print(neg_class)\n",
    "plt.scatter(x1[neg_class, 0], x1[neg_class, 1])\n",
    "plt.scatter(x1[pos_class, 0], x1[pos_class, 1])\n",
    "\n",
    "\n",
    "#plot_data_points(ax, x1, y1)\n",
    "#plt.savefig('output/lin_sep/figure.png')\n",
    "\n",
    "\n",
    "plt.show()"
   ]
  },
  {
   "cell_type": "code",
   "execution_count": null,
   "id": "bc270d83",
   "metadata": {},
   "outputs": [],
   "source": []
  },
  {
   "cell_type": "code",
   "execution_count": null,
   "id": "10094f26",
   "metadata": {},
   "outputs": [],
   "source": [
    "X_train, X_test, y_train, y_test = train_test_split(X, y, train_size=0.75)\n",
    "\n",
    "perceptron_anim(X, y, X_train, y_train, X_test, y_test, 'output/lin_sep/anim', iteration_level=False, p=1, n_iter=2)\n",
    "\n",
    "perceptron = Perceptron()\n",
    "perceptron.fit(X_train, y_train)\n",
    "\n",
    "perceptron.score(X_test, y_test)"
   ]
  }
 ],
 "metadata": {
  "kernelspec": {
   "display_name": "Python 3",
   "language": "python",
   "name": "python3"
  },
  "language_info": {
   "codemirror_mode": {
    "name": "ipython",
    "version": 3
   },
   "file_extension": ".py",
   "mimetype": "text/x-python",
   "name": "python",
   "nbconvert_exporter": "python",
   "pygments_lexer": "ipython3",
   "version": "3.8.10"
  }
 },
 "nbformat": 4,
 "nbformat_minor": 5
}
