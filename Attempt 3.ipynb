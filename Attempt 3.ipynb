{
 "cells": [
  {
   "cell_type": "markdown",
   "id": "647248ee",
   "metadata": {},
   "source": [
    "https://towardsdatascience.com/perceptron-explanation-implementation-and-a-visual-example-3c8e76b4e2d1"
   ]
  },
  {
   "cell_type": "markdown",
   "id": "4bed9c7b",
   "metadata": {},
   "source": [
    "## Attempt number 3"
   ]
  },
  {
   "cell_type": "code",
   "execution_count": 21,
   "id": "fea5771d",
   "metadata": {},
   "outputs": [],
   "source": [
    "import numpy as np\n",
    "from sklearn.datasets import make_moons, make_circles, make_classification\n",
    "\n",
    "class Perceptron:    \n",
    "    def fit(self, X, y, n_iter=100):\n",
    "        \n",
    "        n_samples = X.shape[0]\n",
    "        n_features = X.shape[1]\n",
    "        \n",
    "        # Add 1 for the bias term\n",
    "        self.weights = np.zeros((n_features+1,))\n",
    "        \n",
    "        # Add column of 1s\n",
    "        X = np.concatenate([X, np.ones((n_samples, 1))], axis=1)\n",
    "        \n",
    "        for i in range(n_iter):\n",
    "            for j in range(n_samples):\n",
    "                if y[j]*np.dot(self.weights, X[j, :]) <= 0:\n",
    "                    self.weights += y[j]*X[j, :]\n",
    "    \n",
    "    def predict(self, X):\n",
    "        if not hasattr(self, 'weights'):\n",
    "            print('The model is not trained yet!')\n",
    "            return\n",
    "        \n",
    "        n_samples = X.shape[0]\n",
    "        # Add column of 1s\n",
    "        X = np.concatenate([X, np.ones((n_samples, 1))], axis=1)\n",
    "        y = np.matmul(X, self.weights)\n",
    "        y = np.vectorize(lambda val: 1 if val > 0 else -1)(y)\n",
    "        \n",
    "        return y\n",
    "    \n",
    "    def score(self, X, y):\n",
    "        pred_y = self.predict(X)\n",
    "        \n",
    "        return np.mean(y == pred_y)"
   ]
  },
  {
   "cell_type": "code",
   "execution_count": 22,
   "id": "c4b4e6ef",
   "metadata": {},
   "outputs": [],
   "source": [
    "X, y = make_classification(\n",
    "    n_features=2,\n",
    "    n_classes=2,\n",
    "    n_samples=200,\n",
    "    n_redundant=0,\n",
    "    n_clusters_per_class=1\n",
    ")"
   ]
  },
  {
   "cell_type": "code",
   "execution_count": 23,
   "id": "ab141f6f",
   "metadata": {},
   "outputs": [],
   "source": [
    "X, y = make_circles(n_samples=200, noise=0.03, factor=0.7)"
   ]
  },
  {
   "cell_type": "code",
   "execution_count": null,
   "id": "9d544ee8",
   "metadata": {},
   "outputs": [],
   "source": []
  }
 ],
 "metadata": {
  "kernelspec": {
   "display_name": "Python 3",
   "language": "python",
   "name": "python3"
  },
  "language_info": {
   "codemirror_mode": {
    "name": "ipython",
    "version": 3
   },
   "file_extension": ".py",
   "mimetype": "text/x-python",
   "name": "python",
   "nbconvert_exporter": "python",
   "pygments_lexer": "ipython3",
   "version": "3.8.5"
  }
 },
 "nbformat": 4,
 "nbformat_minor": 5
}
