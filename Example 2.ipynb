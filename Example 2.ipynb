{
 "cells": [
  {
   "cell_type": "code",
   "execution_count": 1,
   "id": "0a94e78f",
   "metadata": {},
   "outputs": [],
   "source": [
    "import numpy as np\n",
    "import matplotlib.pyplot as plt\n",
    "from sklearn.datasets import load_iris\n",
    "import Perc_code as p"
   ]
  },
  {
   "cell_type": "markdown",
   "id": "16010eee",
   "metadata": {},
   "source": [
    "The below code is a modification of the example provided by:\\\n",
    "https://analyticsindiamag.com/perceptron-is-the-only-neural-network-without-any-hidden-layer/"
   ]
  },
  {
   "cell_type": "code",
   "execution_count": 2,
   "id": "76438b7e",
   "metadata": {},
   "outputs": [],
   "source": [
    "# activitaion function\n",
    "def ActivFunc(v):\n",
    "    x = (1 - np.exp(-2*v))/(1 + np.exp(-2*v))\n",
    "    if x < 0:\n",
    "        x = 0\n",
    "    else:\n",
    "        x = 1\n",
    "    return x\n",
    "    \n"
   ]
  },
  {
   "cell_type": "code",
   "execution_count": 3,
   "id": "8eddf154",
   "metadata": {},
   "outputs": [
    {
     "name": "stdout",
     "output_type": "stream",
     "text": [
      "0\n"
     ]
    }
   ],
   "source": [
    "x = 0.0 \n",
    "print(int(x!=0.0))"
   ]
  },
  {
   "cell_type": "code",
   "execution_count": 4,
   "id": "bb140cec",
   "metadata": {},
   "outputs": [],
   "source": [
    "class Perceptron(object):\n",
    "    \"\"\"\n",
    "    self - the thing.\n",
    "    learning_rate - the wieght, eta.\n",
    "    random_state - to see later.\n",
    "    \"\"\"\n",
    "    \n",
    "    # constractor\n",
    "    def __init__(self, learning_rate=0.01, n_iter=100, random_state=1):\n",
    "        self.learning_rate = learning_rate\n",
    "        self.n_iter = n_iter\n",
    "        self.random_state = random_state\n",
    "        \n",
    "    # maps the traings data X and the target Y\n",
    "    def fit(self, X, y):\n",
    "        rand = np.random.RandomState(self.random_state)\n",
    "        \n",
    "        # create a vector of weights of of size 'size of x + 1' with first entery as bias.\n",
    "        self.weights = rand.normal(loc=0.0, scale=0.01, size=1 +  X.shape[1])\n",
    "        \n",
    "        self.errors_ = []\n",
    "        for _ in range(self.n_iter):\n",
    "            errors = 0\n",
    "            for x, target in zip(X, y):\n",
    "                # the update delta= eta(d-x)\n",
    "                update = self.learning_rate * (target - self.predict(x))\n",
    "                \n",
    "                # We update the weight\n",
    "                self.weights[1:] += update * x\n",
    "                \n",
    "                # We update the bias\n",
    "                self.weights[0] += update \n",
    "                \n",
    "                # if the update is not zero, then we have an error.\n",
    "                errors += int(update != 0.0)\n",
    "                self.errors_.append(errors)\n",
    "                #if update != 0.0: \n",
    "                #    errors += int(update)    \n",
    "                # add the error\n",
    "                self.errors_.append(errors)\n",
    "            \n",
    "            #plot_data(self, X,y, self.weights[1:])\n",
    "            \n",
    "            return self\n",
    "        \n",
    "    # activition function\n",
    "    def net_input(self, X):\n",
    "        # \\vec x \\dot \\vec w + bias\n",
    "        z = np.dot(X, self.weights[1:]) + self.weights[0] #bias is the first entry in the weight vector\n",
    "        # varphi(func z)\n",
    "        z = ActivFunc(z)\n",
    "        # print(z)\n",
    "        return z\n",
    "    \n",
    "    \n",
    "    #https://numpy.org/doc/stable/reference/generated/numpy.where.html\n",
    "    def predict(self, X):\n",
    "        # if get back a vector of 1,-1 where 1 is for positive function from the activision function\n",
    "        return np.where(self.net_input(X) >= 0, 1, -1)\n",
    "    \n",
    "    \n",
    "    \n",
    "    #aux function, not working yet\n",
    "    \n",
    "    #https://stats.stackexchange.com/questions/71335/decision-boundary-plot-for-a-perceptron\n",
    "    def plot_data(self,inputs,targets,weights):\n",
    "        # fig config\n",
    "        plt.figure(figsize=(10,6))\n",
    "        plt.grid(True)\n",
    "\n",
    "        #plot input samples(2D data points) and i have two classes. \n",
    "        #one is +1 and second one is -1, so it red color for +1 and blue color for -1\n",
    "        for input,target in zip(inputs,targets):\n",
    "            plt.plot(input[0],input[1],'ro' if (target == 1.0) else 'bo')\n",
    "\n",
    "        # Here i am calculating slope and intercept with given three weights\n",
    "        for i in np.linspace(np.amin(inputs[:,:1]),np.amax(inputs[:,:1])):\n",
    "            slope = -(weights[0]/weights[2])/(weights[0]/weights[1])  \n",
    "            intercept = -weights[0]/weights[2]\n",
    "\n",
    "            #y =mx+c, m is slope and c is intercept\n",
    "            y = (slope*i) + intercept\n",
    "            plt.plot(i, y,'ko')"
   ]
  },
  {
   "cell_type": "markdown",
   "id": "b9ae158e",
   "metadata": {},
   "source": [
    "Now we load a dataset to perform the algorithm on, we load the data in the form:\n",
    "\n",
    "$$X_i = [x_i\\text{-cordinate}, y_i\\text{-cordinate},\\text{property} ],\\quad \\vec y = (y_1,y_2,\\dots)-\\text{target}$$"
   ]
  },
  {
   "cell_type": "code",
   "execution_count": 5,
   "id": "fa951f10",
   "metadata": {},
   "outputs": [],
   "source": [
    "%matplotlib inline\n",
    "#https://scikit-learn.org/stable/modules/generated/sklearn.datasets.load_iris.html\n",
    "\n",
    "# return the data and the target\n",
    "X,y = load_iris(return_X_y=True)"
   ]
  },
  {
   "cell_type": "markdown",
   "id": "6051fe8d",
   "metadata": {},
   "source": [
    "And we plot it using the 'scatter' method"
   ]
  },
  {
   "cell_type": "code",
   "execution_count": 6,
   "id": "f4513681",
   "metadata": {},
   "outputs": [
    {
     "data": {
      "image/png": "[encoded data removed]",
      "text/plain": [
       "<Figure size 432x288 with 1 Axes>"
      ]
     },
     "metadata": {
      "needs_background": "light"
     },
     "output_type": "display_data"
    }
   ],
   "source": [
    "# plt.scatter(x, y,...)\n",
    "\n",
    "# first fifty enteries\n",
    "plt.scatter(X[:50, 0], X[:50, 1],\n",
    "            color='green', marker='x', label='setosa')\n",
    "\n",
    "# last thifty entires\n",
    "plt.scatter(X[50:100, 0], X[50:100, 1],\n",
    "            color='red', marker='o', label='versicolor')\n",
    "plt.xlabel('sepal length')\n",
    "plt.ylabel('petal length')\n",
    "plt.legend(loc='upper right')\n",
    "plt.show()"
   ]
  },
  {
   "cell_type": "markdown",
   "id": "54e780ba",
   "metadata": {},
   "source": [
    "Performing the algorithm"
   ]
  },
  {
   "cell_type": "code",
   "execution_count": 7,
   "id": "3ae37158",
   "metadata": {
    "scrolled": true
   },
   "outputs": [
    {
     "data": {
      "image/png": "[encoded data removed]",
      "text/plain": [
       "<Figure size 432x288 with 1 Axes>"
      ]
     },
     "metadata": {
      "needs_background": "light"
     },
     "output_type": "display_data"
    }
   ],
   "source": [
    "per = Perceptron(learning_rate=0.1, n_iter=100, random_state=1)\n",
    "per.fit(X, y)\n",
    "plt.plot(range(1, len(per.errors_) + 1), per.errors_, marker='o')\n",
    "plt.xlabel('Epochs')\n",
    "plt.ylabel('Number of updates')\n",
    "plt.show()"
   ]
  },
  {
   "cell_type": "markdown",
   "id": "e835e989",
   "metadata": {},
   "source": [
    "Now let us see the plot for the data (Still work in process so its wrong ... for now)"
   ]
  },
  {
   "cell_type": "code",
   "execution_count": 8,
   "id": "9b90f0a6",
   "metadata": {
    "scrolled": false
   },
   "outputs": [
    {
     "data": {
      "image/png": "[encoded data removed]",
      "text/plain": [
       "<Figure size 720x432 with 1 Axes>"
      ]
     },
     "metadata": {
      "needs_background": "light"
     },
     "output_type": "display_data"
    }
   ],
   "source": [
    "per.plot_data(X,y, per.weights[1:])"
   ]
  },
  {
   "cell_type": "code",
   "execution_count": 9,
   "id": "06c78a5f",
   "metadata": {},
   "outputs": [
    {
     "ename": "NameError",
     "evalue": "name 'Z' is not defined",
     "output_type": "error",
     "traceback": [
      "\u001b[1;31m---------------------------------------------------------------------------\u001b[0m",
      "\u001b[1;31mNameError\u001b[0m                                 Traceback (most recent call last)",
      "\u001b[1;32m<ipython-input-9-3b6f70fa862d>\u001b[0m in \u001b[0;36m<module>\u001b[1;34m\u001b[0m\n\u001b[0;32m     28\u001b[0m \u001b[1;33m\u001b[0m\u001b[0m\n\u001b[0;32m     29\u001b[0m \u001b[1;31m# Put the result into a color plot\u001b[0m\u001b[1;33m\u001b[0m\u001b[1;33m\u001b[0m\u001b[1;33m\u001b[0m\u001b[0m\n\u001b[1;32m---> 30\u001b[1;33m \u001b[0mZ\u001b[0m \u001b[1;33m=\u001b[0m \u001b[0mZ\u001b[0m\u001b[1;33m.\u001b[0m\u001b[0mreshape\u001b[0m\u001b[1;33m(\u001b[0m\u001b[0mxx\u001b[0m\u001b[1;33m.\u001b[0m\u001b[0mshape\u001b[0m\u001b[1;33m)\u001b[0m\u001b[1;33m\u001b[0m\u001b[1;33m\u001b[0m\u001b[0m\n\u001b[0m\u001b[0;32m     31\u001b[0m \u001b[0max\u001b[0m\u001b[1;33m.\u001b[0m\u001b[0mcontourf\u001b[0m\u001b[1;33m(\u001b[0m\u001b[0mxx\u001b[0m\u001b[1;33m,\u001b[0m \u001b[0myy\u001b[0m\u001b[1;33m,\u001b[0m \u001b[0mZ\u001b[0m\u001b[1;33m,\u001b[0m \u001b[0mcmap\u001b[0m\u001b[1;33m=\u001b[0m\u001b[0mplt\u001b[0m\u001b[1;33m.\u001b[0m\u001b[0mcm\u001b[0m\u001b[1;33m.\u001b[0m\u001b[0mPaired\u001b[0m\u001b[1;33m)\u001b[0m\u001b[1;33m\u001b[0m\u001b[1;33m\u001b[0m\u001b[0m\n\u001b[0;32m     32\u001b[0m \u001b[0max\u001b[0m\u001b[1;33m.\u001b[0m\u001b[0maxis\u001b[0m\u001b[1;33m(\u001b[0m\u001b[1;34m'off'\u001b[0m\u001b[1;33m)\u001b[0m\u001b[1;33m\u001b[0m\u001b[1;33m\u001b[0m\u001b[0m\n",
      "\u001b[1;31mNameError\u001b[0m: name 'Z' is not defined"
     ]
    },
    {
     "data": {
      "image/png": "[encoded data removed]",
      "text/plain": [
       "<Figure size 432x288 with 1 Axes>"
      ]
     },
     "metadata": {
      "needs_background": "light"
     },
     "output_type": "display_data"
    }
   ],
   "source": [
    "#https://stats.stackexchange.com/questions/71335/decision-boundary-plot-for-a-perceptron\n",
    "\n",
    "import numpy as np\n",
    "#from sklearn.linear_model import Perceptron\n",
    "import matplotlib.pyplot as plt\n",
    "\n",
    "X = np.array([[2,1],[3,4],[4,2],[3,1]])\n",
    "Y = np.array([0,0,1,1])\n",
    "h = .02  # step size in the mesh\n",
    "\n",
    "\n",
    "# we create an instance of SVM and fit our data. We do not scale our\n",
    "# data since we want to plot the support vectors\n",
    "\n",
    "clf = Perceptron(learning_rate=0.1, n_iter=100, random_state=1)\n",
    "clf.fit(X, Y)\n",
    "\n",
    "# create a mesh to plot in\n",
    "x_min, x_max = X[:, 0].min() - 1, X[:, 0].max() + 1\n",
    "y_min, y_max = X[:, 1].min() - 1, X[:, 1].max() + 1\n",
    "xx, yy = np.meshgrid(np.arange(x_min, x_max, h),\n",
    "                     np.arange(y_min, y_max, h))\n",
    "\n",
    "# Plot the decision boundary. For that, we will assign a color to each\n",
    "# point in the mesh [x_min, m_max]x[y_min, y_max].\n",
    "fig, ax = plt.subplots()\n",
    "#Z = clf.predict(np.c_[xx.ravel(), yy.ravel()])\n",
    "\n",
    "# Put the result into a color plot\n",
    "Z = Z.reshape(xx.shape)\n",
    "ax.contourf(xx, yy, Z, cmap=plt.cm.Paired)\n",
    "ax.axis('off')\n",
    "\n",
    "# Plot also the training points\n",
    "ax.scatter(X[:, 0], X[:, 1], c=Y, cmap=plt.cm.Paired)\n",
    "\n",
    "ax.set_title('Perceptron')"
   ]
  },
  {
   "cell_type": "code",
   "execution_count": null,
   "id": "4c9e49ac",
   "metadata": {},
   "outputs": [],
   "source": [
    "d = p.load_data()"
   ]
  },
  {
   "cell_type": "code",
   "execution_count": null,
   "id": "472dc993",
   "metadata": {},
   "outputs": [],
   "source": []
  },
  {
   "cell_type": "code",
   "execution_count": null,
   "id": "f43cba58",
   "metadata": {},
   "outputs": [],
   "source": []
  }
 ],
 "metadata": {
  "kernelspec": {
   "display_name": "Python 3",
   "language": "python",
   "name": "python3"
  },
  "language_info": {
   "codemirror_mode": {
    "name": "ipython",
    "version": 3
   },
   "file_extension": ".py",
   "mimetype": "text/x-python",
   "name": "python",
   "nbconvert_exporter": "python",
   "pygments_lexer": "ipython3",
   "version": "3.8.5"
  }
 },
 "nbformat": 4,
 "nbformat_minor": 5
}
