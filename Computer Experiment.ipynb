{
 "cells": [
  {
   "cell_type": "code",
   "execution_count": null,
   "metadata": {},
   "outputs": [],
   "source": [
    "import code as c"
   ]
  },
  {
   "cell_type": "markdown",
   "metadata": {},
   "source": [
    "## Computer Experiment: Pattern classification"
   ]
  },
  {
   "cell_type": "markdown",
   "metadata": {},
   "source": [
    "In this project we will attempt to solve the computer experiment in section 4.7, with the objective to demonsrate \n",
    "* Demonsrate multilayer perceptron\n",
    "* Find more difficult case for non linearity\n",
    "    + Size of input layer: $m_0=2$.\n",
    "    + size of the single hiddn layer: $m_1=20$.\n",
    "    + Size of the output layer: $m_2=1$. \n",
    "    + Activition function as the hyperbolic tangent function $$\\varphi(v) = \\frac{1-\\exp(-2v)}{1+\\exp(-2v}$$\n",
    "    + Zero thershhold setting\n",
    "    + learning parameter $\\eta$: annealed linearly from $10^{-1}$ to $10^{-5}$.\n",
    "\n",
    "The experiment is carried in two parts, one corresponding to vertical seperation $d=-4$ and other to $d=-5$."
   ]
  },
  {
   "cell_type": "markdown",
   "metadata": {},
   "source": [
    "First Let us load the data set that is used for this exercise, we will use the Iris data set that is wiedley used to test mechine learning algorithms"
   ]
  },
  {
   "cell_type": "code",
   "execution_count": null,
   "metadata": {},
   "outputs": [],
   "source": [
    "c.l"
   ]
  },
  {
   "cell_type": "code",
   "execution_count": null,
   "metadata": {},
   "outputs": [],
   "source": []
  }
 ],
 "metadata": {
  "kernelspec": {
   "display_name": "Python 3",
   "language": "python",
   "name": "python3"
  },
  "language_info": {
   "codemirror_mode": {
    "name": "ipython",
    "version": 3
   },
   "file_extension": ".py",
   "mimetype": "text/x-python",
   "name": "python",
   "nbconvert_exporter": "python",
   "pygments_lexer": "ipython3",
   "version": "3.8.5"
  }
 },
 "nbformat": 4,
 "nbformat_minor": 4
}
